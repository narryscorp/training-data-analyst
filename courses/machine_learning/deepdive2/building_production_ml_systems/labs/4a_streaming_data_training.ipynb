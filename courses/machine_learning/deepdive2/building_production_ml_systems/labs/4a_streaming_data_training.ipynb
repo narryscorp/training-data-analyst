{
 "cells": [
  {
   "cell_type": "markdown",
   "metadata": {},
   "source": [
    "# Training a model with `traffic_last_5min` feature\n",
    "\n",
    "\n",
    "## Introduction\n",
    "\n",
    "In this notebook, we'll train a taxifare prediction model but this time with an additional feature of `traffic_last_5min`."
   ]
  },
  {
   "cell_type": "code",
   "execution_count": 1,
   "metadata": {
    "colab": {},
    "colab_type": "code",
    "id": "Nny3m465gKkY"
   },
   "outputs": [],
   "source": [
    "!sudo chown -R jupyter:jupyter /home/jupyter/training-data-analyst"
   ]
  },
  {
   "cell_type": "code",
   "execution_count": 2,
   "metadata": {},
   "outputs": [
    {
     "name": "stdout",
     "output_type": "stream",
     "text": [
      "2.3.0\n"
     ]
    }
   ],
   "source": [
    "import datetime\n",
    "import os\n",
    "import shutil\n",
    "\n",
    "import pandas as pd\n",
    "import tensorflow as tf\n",
    "\n",
    "from matplotlib import pyplot as plt\n",
    "from tensorflow import keras\n",
    "\n",
    "from tensorflow.keras.models import Sequential\n",
    "from tensorflow.keras.layers import Dense, DenseFeatures\n",
    "from tensorflow.keras.callbacks import TensorBoard\n",
    "\n",
    "print(tf.__version__)\n",
    "%matplotlib inline"
   ]
  },
  {
   "cell_type": "code",
   "execution_count": 3,
   "metadata": {},
   "outputs": [],
   "source": [
    "PROJECT = 'qwiklabs-gcp-02-15ad15b6da61' # REPLACE WITH YOUR PROJECT ID\n",
    "BUCKET = 'qwiklabs-gcp-02-15ad15b6da61' # REPLACE WITH YOUR BUCKET NAME\n",
    "REGION = 'us-central1' # REPLACE WITH YOUR BUCKET REGION e.g. us-central1"
   ]
  },
  {
   "cell_type": "code",
   "execution_count": 4,
   "metadata": {},
   "outputs": [],
   "source": [
    "# For Bash Code\n",
    "os.environ['PROJECT'] = PROJECT\n",
    "os.environ['BUCKET'] = BUCKET\n",
    "os.environ['REGION'] = REGION"
   ]
  },
  {
   "cell_type": "code",
   "execution_count": 5,
   "metadata": {},
   "outputs": [
    {
     "name": "stderr",
     "output_type": "stream",
     "text": [
      "Updated property [core/project].\n",
      "Updated property [compute/region].\n"
     ]
    }
   ],
   "source": [
    "%%bash\n",
    "gcloud config set project $PROJECT\n",
    "gcloud config set compute/region $REGION"
   ]
  },
  {
   "cell_type": "markdown",
   "metadata": {},
   "source": [
    "## Load raw data"
   ]
  },
  {
   "cell_type": "code",
   "execution_count": 6,
   "metadata": {},
   "outputs": [
    {
     "name": "stdout",
     "output_type": "stream",
     "text": [
      "-rw-r--r-- 1 jupyter jupyter 2186310 May 24 03:53 ../data/taxi-traffic-test.csv\n",
      "-rw-r--r-- 1 jupyter jupyter 9713118 May 24 03:53 ../data/taxi-traffic-train.csv\n",
      "-rw-r--r-- 1 jupyter jupyter 2036826 May 24 03:53 ../data/taxi-traffic-valid.csv\n"
     ]
    }
   ],
   "source": [
    "!ls -l ../data/taxi-traffic*"
   ]
  },
  {
   "cell_type": "code",
   "execution_count": 7,
   "metadata": {},
   "outputs": [
    {
     "name": "stdout",
     "output_type": "stream",
     "text": [
      "==> ../data/taxi-traffic-test.csv <==\n",
      "15.7,6,12,-73.990072,40.758199,-73.974686,40.742004,2089\n",
      "6.1,7,2,-73.95647,40.771226,-73.971845,40.750089,1738\n",
      "4.1,6,18,-73.987871,40.759855,-73.996375,40.763728,2971\n",
      "5.7,2,18,-73.974177,40.761154,-73.980953,40.769357,2320\n",
      "7.4,4,23,-73.924908,40.741879,-73.897524,40.747867,1491\n",
      "20.5,1,15,-73.957528,40.766847,-73.870813,40.774044,1794\n",
      "6.5,6,9,-73.996553,40.725558,-73.992503,40.737248,2341\n",
      "4.1,4,11,-73.98353,40.746821000000004,-73.976831,40.751082000000004,2329\n",
      "10.5,3,18,-73.863998,40.770439,-73.91671099999999,40.773011,2318\n",
      "10.1,6,1,-73.979685,40.727247999999996,-73.952508,40.772492,1455\n",
      "\n",
      "==> ../data/taxi-traffic-train.csv <==\n",
      "6.1,2,0,-73.98689499999999,40.729723,-74.00631,40.739407,1129\n",
      "9.7,7,0,-73.94578299999999,40.777807,-73.97539,40.757712,2876\n",
      "5.3,6,0,-74.00644,40.739349,-73.999379,40.731804,3950\n",
      "7.3,5,0,-73.96611800000001,40.753983000000005,-73.945605,40.782802000000004,1334\n",
      "6.5,7,0,-73.974153,40.762767,-73.989152,40.742727,2623\n",
      "22.9,1,0,-73.977188,40.774063,-73.962647,40.654768,2833\n",
      "22.9,2,0,-74.00188,40.745946999999994,-73.968497,40.639375,2002\n",
      "6.1,3,0,-73.994051,40.751077,-73.977333,40.778875,661\n",
      "5.3,5,0,-73.980898,40.744515,-73.973383,40.753496999999996,1938\n",
      "6.5,7,0,-74.00540600000001,40.708533,-74.005498,40.725617,2781\n",
      "\n",
      "==> ../data/taxi-traffic-valid.csv <==\n",
      "7.7,2,11,-73.97463,40.742118,-73.98544,40.760585999999996,1059\n",
      "30.1,7,1,-73.956921,40.777588,-73.965109,40.673271,2225\n",
      "7.7,6,13,-73.98073199999999,40.742109,-73.96415400000001,40.764891999999996,1994\n",
      "24.67,4,4,-73.953387,40.822733,-73.878697,40.755373,321\n",
      "7.7,2,1,-73.982304,40.723572,-73.972778,40.74928,1115\n",
      "8.1,5,18,-73.98474300000001,40.749171999999994,-74.00232,40.72825,2697\n",
      "6.1,4,1,-73.983588,40.72224,-73.997302,40.720786,868\n",
      "19.07,3,1,-73.94446500000001,40.807284,-73.876339,40.763073999999996,711\n",
      "12.5,4,10,-73.98696899999999,40.722343,-74.01621,40.715067,1990\n",
      "5.7,7,18,-74.007972,40.738759,-73.991973,40.73704,2048\n"
     ]
    }
   ],
   "source": [
    "!head ../data/taxi-traffic*"
   ]
  },
  {
   "cell_type": "markdown",
   "metadata": {},
   "source": [
    "## Use tf.data to read the CSV files\n",
    "\n",
    "These functions for reading data from the csv files are similar to what we used in the Introduction to Tensorflow module. Note that here we have an addtional feature `traffic_last_5min`."
   ]
  },
  {
   "cell_type": "code",
   "execution_count": 8,
   "metadata": {},
   "outputs": [],
   "source": [
    "CSV_COLUMNS = [\n",
    "    'fare_amount',\n",
    "    'dayofweek',\n",
    "    'hourofday',\n",
    "    'pickup_longitude',\n",
    "    'pickup_latitude',\n",
    "    'dropoff_longitude',\n",
    "    'dropoff_latitude',\n",
    "    'traffic_last_5min'\n",
    "]\n",
    "LABEL_COLUMN = 'fare_amount'\n",
    "DEFAULTS = [[0.0], [0.0], [0.0], [0.0], [0.0], [0.0], [0.0], [0.0]]\n",
    "\n",
    "\n",
    "def features_and_labels(row_data):\n",
    "    label = row_data.pop(LABEL_COLUMN)\n",
    "    features = row_data\n",
    "\n",
    "    return features, label\n",
    "\n",
    "\n",
    "def create_dataset(pattern, batch_size=1, mode=tf.estimator.ModeKeys.EVAL):\n",
    "    dataset = tf.data.experimental.make_csv_dataset(\n",
    "        pattern, batch_size, CSV_COLUMNS, DEFAULTS)\n",
    "\n",
    "    dataset = dataset.map(features_and_labels)\n",
    "\n",
    "    if mode == tf.estimator.ModeKeys.TRAIN:\n",
    "        dataset = dataset.shuffle(buffer_size=1000).repeat()\n",
    "\n",
    "    # take advantage of multi-threading; 1=AUTOTUNE\n",
    "    dataset = dataset.prefetch(1)\n",
    "    return dataset"
   ]
  },
  {
   "cell_type": "code",
   "execution_count": 9,
   "metadata": {},
   "outputs": [],
   "source": [
    "INPUT_COLS = [\n",
    "    'dayofweek',\n",
    "    'hourofday',\n",
    "    'pickup_longitude',\n",
    "    'pickup_latitude',\n",
    "    'dropoff_longitude',\n",
    "    'dropoff_latitude',\n",
    "    'traffic_last_5min'\n",
    "]\n",
    "\n",
    "# Create input layer of feature columns\n",
    "feature_columns = {\n",
    "    colname: tf.feature_column.numeric_column(colname)\n",
    "    for colname in INPUT_COLS\n",
    "    }"
   ]
  },
  {
   "cell_type": "markdown",
   "metadata": {},
   "source": [
    "## Build a simple keras DNN model"
   ]
  },
  {
   "cell_type": "code",
   "execution_count": 10,
   "metadata": {},
   "outputs": [],
   "source": [
    "# Build a keras DNN model using Sequential API\n",
    "def build_model(dnn_hidden_units):\n",
    "    model = Sequential(DenseFeatures(feature_columns=feature_columns.values()))\n",
    "    \n",
    "    for num_nodes in dnn_hidden_units:\n",
    "        model.add(Dense(units=num_nodes, activation=\"relu\"))\n",
    "    \n",
    "    model.add(Dense(units=1, activation=\"linear\"))    \n",
    "    \n",
    "    # Create a custom evalution metric\n",
    "    def rmse(y_true, y_pred):\n",
    "        return tf.sqrt(tf.reduce_mean(tf.square(y_pred - y_true)))\n",
    "\n",
    "    # Compile the keras model\n",
    "    model.compile(optimizer=\"adam\", loss=\"mse\", metrics=[rmse, \"mse\"])\n",
    "    \n",
    "    return model"
   ]
  },
  {
   "cell_type": "markdown",
   "metadata": {},
   "source": [
    "Next, we can call the `build_model` to create the model. Here we'll have two hidden layers before our final output layer. And we'll train with the same parameters we used before."
   ]
  },
  {
   "cell_type": "code",
   "execution_count": 18,
   "metadata": {},
   "outputs": [],
   "source": [
    "HIDDEN_UNITS = [64, 32, 16]\n",
    "\n",
    "model = build_model(dnn_hidden_units=HIDDEN_UNITS)"
   ]
  },
  {
   "cell_type": "code",
   "execution_count": 19,
   "metadata": {},
   "outputs": [],
   "source": [
    "BATCH_SIZE = 1000\n",
    "NUM_TRAIN_EXAMPLES = 10000 * 6  # training dataset will repeat, wrap around\n",
    "NUM_EVALS = 60  # how many times to evaluate\n",
    "NUM_EVAL_EXAMPLES = 10000  # enough to get a reasonable sample\n",
    "\n",
    "trainds = create_dataset(\n",
    "    pattern='../data/taxi-traffic-train*',\n",
    "    batch_size=BATCH_SIZE,\n",
    "    mode=tf.estimator.ModeKeys.TRAIN)\n",
    "\n",
    "evalds = create_dataset(\n",
    "    pattern='../data/taxi-traffic-valid*',\n",
    "    batch_size=BATCH_SIZE,\n",
    "    mode=tf.estimator.ModeKeys.EVAL).take(NUM_EVAL_EXAMPLES//1000)"
   ]
  },
  {
   "cell_type": "code",
   "execution_count": 20,
   "metadata": {},
   "outputs": [
    {
     "name": "stdout",
     "output_type": "stream",
     "text": [
      "Epoch 1/60\n",
      "WARNING:tensorflow:Layers in a Sequential model should only have a single input tensor, but we receive a <class 'collections.OrderedDict'> input: OrderedDict([('dayofweek', <tf.Tensor 'ExpandDims:0' shape=(1000, 1) dtype=float32>), ('hourofday', <tf.Tensor 'ExpandDims_3:0' shape=(1000, 1) dtype=float32>), ('pickup_longitude', <tf.Tensor 'ExpandDims_5:0' shape=(1000, 1) dtype=float32>), ('pickup_latitude', <tf.Tensor 'ExpandDims_4:0' shape=(1000, 1) dtype=float32>), ('dropoff_longitude', <tf.Tensor 'ExpandDims_2:0' shape=(1000, 1) dtype=float32>), ('dropoff_latitude', <tf.Tensor 'ExpandDims_1:0' shape=(1000, 1) dtype=float32>), ('traffic_last_5min', <tf.Tensor 'ExpandDims_6:0' shape=(1000, 1) dtype=float32>)])\n",
      "Consider rewriting this model with the Functional API.\n",
      "WARNING:tensorflow:Layers in a Sequential model should only have a single input tensor, but we receive a <class 'collections.OrderedDict'> input: OrderedDict([('dayofweek', <tf.Tensor 'ExpandDims:0' shape=(1000, 1) dtype=float32>), ('hourofday', <tf.Tensor 'ExpandDims_3:0' shape=(1000, 1) dtype=float32>), ('pickup_longitude', <tf.Tensor 'ExpandDims_5:0' shape=(1000, 1) dtype=float32>), ('pickup_latitude', <tf.Tensor 'ExpandDims_4:0' shape=(1000, 1) dtype=float32>), ('dropoff_longitude', <tf.Tensor 'ExpandDims_2:0' shape=(1000, 1) dtype=float32>), ('dropoff_latitude', <tf.Tensor 'ExpandDims_1:0' shape=(1000, 1) dtype=float32>), ('traffic_last_5min', <tf.Tensor 'ExpandDims_6:0' shape=(1000, 1) dtype=float32>)])\n",
      "Consider rewriting this model with the Functional API.\n",
      "1/1 [==============================] - ETA: 0s - loss: 9299.5742 - rmse: 96.4343 - mse: 9299.5742WARNING:tensorflow:Layers in a Sequential model should only have a single input tensor, but we receive a <class 'collections.OrderedDict'> input: OrderedDict([('dayofweek', <tf.Tensor 'ExpandDims:0' shape=(1000, 1) dtype=float32>), ('hourofday', <tf.Tensor 'ExpandDims_3:0' shape=(1000, 1) dtype=float32>), ('pickup_longitude', <tf.Tensor 'ExpandDims_5:0' shape=(1000, 1) dtype=float32>), ('pickup_latitude', <tf.Tensor 'ExpandDims_4:0' shape=(1000, 1) dtype=float32>), ('dropoff_longitude', <tf.Tensor 'ExpandDims_2:0' shape=(1000, 1) dtype=float32>), ('dropoff_latitude', <tf.Tensor 'ExpandDims_1:0' shape=(1000, 1) dtype=float32>), ('traffic_last_5min', <tf.Tensor 'ExpandDims_6:0' shape=(1000, 1) dtype=float32>)])\n",
      "Consider rewriting this model with the Functional API.\n",
      "1/1 [==============================] - 0s 469ms/step - loss: 9299.5742 - rmse: 96.4343 - mse: 9299.5742 - val_loss: 2276.4446 - val_rmse: 47.7060 - val_mse: 2276.4446\n",
      "Epoch 2/60\n",
      "1/1 [==============================] - 0s 362ms/step - loss: 3213.1399 - rmse: 56.6846 - mse: 3213.1399 - val_loss: 108.1946 - val_rmse: 10.3831 - val_mse: 108.1946\n",
      "Epoch 3/60\n",
      "1/1 [==============================] - 0s 303ms/step - loss: 77.1872 - rmse: 8.7856 - mse: 77.1872 - val_loss: 1409.1228 - val_rmse: 37.5323 - val_mse: 1409.1228\n",
      "Epoch 4/60\n",
      "1/1 [==============================] - 0s 343ms/step - loss: 2266.5112 - rmse: 47.6079 - mse: 2266.5112 - val_loss: 2569.7627 - val_rmse: 50.6816 - val_mse: 2569.7627\n",
      "Epoch 5/60\n",
      "1/1 [==============================] - 0s 291ms/step - loss: 3368.4270 - rmse: 58.0382 - mse: 3368.4270 - val_loss: 2462.7571 - val_rmse: 49.6161 - val_mse: 2462.7571\n",
      "Epoch 6/60\n",
      "1/1 [==============================] - 0s 304ms/step - loss: 2488.8770 - rmse: 49.8886 - mse: 2488.8770 - val_loss: 1680.8306 - val_rmse: 40.9918 - val_mse: 1680.8306\n",
      "Epoch 7/60\n",
      "1/1 [==============================] - 0s 300ms/step - loss: 2971.5105 - rmse: 54.5116 - mse: 2971.5105 - val_loss: 636.8348 - val_rmse: 25.2324 - val_mse: 636.8348\n",
      "Epoch 8/60\n",
      "1/1 [==============================] - 0s 298ms/step - loss: 566.2477 - rmse: 23.7960 - mse: 566.2477 - val_loss: 137.4952 - val_rmse: 11.7237 - val_mse: 137.4952\n",
      "Epoch 9/60\n",
      "1/1 [==============================] - 0s 298ms/step - loss: 151.8469 - rmse: 12.3226 - mse: 151.8469 - val_loss: 210.5892 - val_rmse: 14.5044 - val_mse: 210.5892\n",
      "Epoch 10/60\n",
      "1/1 [==============================] - 0s 308ms/step - loss: 209.9665 - rmse: 14.4902 - mse: 209.9665 - val_loss: 644.9255 - val_rmse: 25.3918 - val_mse: 644.9255\n",
      "Epoch 11/60\n",
      "1/1 [==============================] - 0s 291ms/step - loss: 841.3976 - rmse: 29.0069 - mse: 841.3976 - val_loss: 1004.6262 - val_rmse: 31.6920 - val_mse: 1004.6262\n",
      "Epoch 12/60\n",
      "1/1 [==============================] - 0s 330ms/step - loss: 1099.2048 - rmse: 33.1543 - mse: 1099.2048 - val_loss: 1148.2426 - val_rmse: 33.8821 - val_mse: 1148.2426\n",
      "Epoch 13/60\n",
      "1/1 [==============================] - 0s 285ms/step - loss: 1192.7753 - rmse: 34.5366 - mse: 1192.7753 - val_loss: 1004.0196 - val_rmse: 31.6838 - val_mse: 1004.0196\n",
      "Epoch 14/60\n",
      "1/1 [==============================] - 0s 306ms/step - loss: 1078.2965 - rmse: 32.8374 - mse: 1078.2965 - val_loss: 694.3741 - val_rmse: 26.3481 - val_mse: 694.3741\n",
      "Epoch 15/60\n",
      "1/1 [==============================] - 0s 291ms/step - loss: 566.4330 - rmse: 23.7999 - mse: 566.4330 - val_loss: 394.8367 - val_rmse: 19.8656 - val_mse: 394.8367\n",
      "Epoch 16/60\n",
      "1/1 [==============================] - 0s 304ms/step - loss: 357.3759 - rmse: 18.9044 - mse: 357.3759 - val_loss: 186.0376 - val_rmse: 13.6278 - val_mse: 186.0376\n",
      "Epoch 17/60\n",
      "1/1 [==============================] - 0s 296ms/step - loss: 177.3464 - rmse: 13.3171 - mse: 177.3464 - val_loss: 112.0435 - val_rmse: 10.5719 - val_mse: 112.0435\n",
      "Epoch 18/60\n",
      "1/1 [==============================] - 0s 303ms/step - loss: 86.2915 - rmse: 9.2893 - mse: 86.2915 - val_loss: 148.6671 - val_rmse: 12.1890 - val_mse: 148.6671\n",
      "Epoch 19/60\n",
      "1/1 [==============================] - 0s 309ms/step - loss: 149.8940 - rmse: 12.2431 - mse: 149.8940 - val_loss: 265.9523 - val_rmse: 16.3048 - val_mse: 265.9523\n",
      "Epoch 20/60\n",
      "1/1 [==============================] - 0s 320ms/step - loss: 380.0818 - rmse: 19.4957 - mse: 380.0818 - val_loss: 344.9545 - val_rmse: 18.5664 - val_mse: 344.9545\n",
      "Epoch 21/60\n",
      "1/1 [==============================] - 0s 291ms/step - loss: 340.1706 - rmse: 18.4437 - mse: 340.1706 - val_loss: 363.4511 - val_rmse: 19.0588 - val_mse: 363.4511\n",
      "Epoch 22/60\n",
      "1/1 [==============================] - 0s 283ms/step - loss: 593.4001 - rmse: 24.3598 - mse: 593.4001 - val_loss: 268.5374 - val_rmse: 16.3840 - val_mse: 268.5374\n",
      "Epoch 23/60\n",
      "1/1 [==============================] - 0s 301ms/step - loss: 251.9632 - rmse: 15.8733 - mse: 251.9632 - val_loss: 176.6112 - val_rmse: 13.2858 - val_mse: 176.6112\n",
      "Epoch 24/60\n",
      "1/1 [==============================] - 0s 390ms/step - loss: 231.1362 - rmse: 15.2032 - mse: 231.1362 - val_loss: 112.6820 - val_rmse: 10.6081 - val_mse: 112.6820\n",
      "Epoch 25/60\n",
      "1/1 [==============================] - 0s 349ms/step - loss: 149.0702 - rmse: 12.2094 - mse: 149.0702 - val_loss: 106.3024 - val_rmse: 10.3017 - val_mse: 106.3024\n",
      "Epoch 26/60\n",
      "1/1 [==============================] - 0s 404ms/step - loss: 89.7847 - rmse: 9.4755 - mse: 89.7847 - val_loss: 150.3136 - val_rmse: 12.2511 - val_mse: 150.3136\n",
      "Epoch 27/60\n",
      "1/1 [==============================] - 0s 377ms/step - loss: 130.6339 - rmse: 11.4295 - mse: 130.6339 - val_loss: 203.8278 - val_rmse: 14.2700 - val_mse: 203.8278\n",
      "Epoch 28/60\n",
      "1/1 [==============================] - 0s 363ms/step - loss: 192.3201 - rmse: 13.8680 - mse: 192.3201 - val_loss: 237.6803 - val_rmse: 15.4082 - val_mse: 237.6803\n",
      "Epoch 29/60\n",
      "1/1 [==============================] - 0s 337ms/step - loss: 274.9190 - rmse: 16.5807 - mse: 274.9190 - val_loss: 224.9926 - val_rmse: 14.9855 - val_mse: 224.9926\n",
      "Epoch 30/60\n",
      "1/1 [==============================] - 0s 317ms/step - loss: 229.1179 - rmse: 15.1366 - mse: 229.1179 - val_loss: 199.9866 - val_rmse: 14.1248 - val_mse: 199.9866\n",
      "Epoch 31/60\n",
      "1/1 [==============================] - 0s 285ms/step - loss: 226.7381 - rmse: 15.0578 - mse: 226.7381 - val_loss: 149.6679 - val_rmse: 12.2263 - val_mse: 149.6679\n",
      "Epoch 32/60\n",
      "1/1 [==============================] - 0s 271ms/step - loss: 146.1563 - rmse: 12.0895 - mse: 146.1563 - val_loss: 114.4630 - val_rmse: 10.6755 - val_mse: 114.4630\n",
      "Epoch 33/60\n",
      "1/1 [==============================] - 0s 290ms/step - loss: 76.6685 - rmse: 8.7561 - mse: 76.6685 - val_loss: 97.8427 - val_rmse: 9.8714 - val_mse: 97.8427\n",
      "Epoch 34/60\n",
      "1/1 [==============================] - 0s 325ms/step - loss: 68.4315 - rmse: 8.2723 - mse: 68.4315 - val_loss: 113.2996 - val_rmse: 10.6355 - val_mse: 113.2996\n",
      "Epoch 35/60\n",
      "1/1 [==============================] - 0s 289ms/step - loss: 107.0601 - rmse: 10.3470 - mse: 107.0601 - val_loss: 131.8927 - val_rmse: 11.4763 - val_mse: 131.8927\n",
      "Epoch 36/60\n",
      "1/1 [==============================] - 0s 300ms/step - loss: 154.1437 - rmse: 12.4155 - mse: 154.1437 - val_loss: 149.6239 - val_rmse: 12.2208 - val_mse: 149.6239\n",
      "Epoch 37/60\n",
      "1/1 [==============================] - 0s 324ms/step - loss: 208.4445 - rmse: 14.4376 - mse: 208.4445 - val_loss: 133.2658 - val_rmse: 11.5261 - val_mse: 133.2658\n",
      "Epoch 38/60\n",
      "1/1 [==============================] - 0s 339ms/step - loss: 142.7088 - rmse: 11.9461 - mse: 142.7088 - val_loss: 114.5996 - val_rmse: 10.6856 - val_mse: 114.5996\n",
      "Epoch 39/60\n",
      "1/1 [==============================] - 0s 301ms/step - loss: 112.9802 - rmse: 10.6292 - mse: 112.9802 - val_loss: 100.3987 - val_rmse: 10.0069 - val_mse: 100.3987\n",
      "Epoch 40/60\n",
      "1/1 [==============================] - 0s 338ms/step - loss: 112.3632 - rmse: 10.6002 - mse: 112.3632 - val_loss: 98.0171 - val_rmse: 9.8836 - val_mse: 98.0171\n",
      "Epoch 41/60\n",
      "1/1 [==============================] - 0s 312ms/step - loss: 91.1795 - rmse: 9.5488 - mse: 91.1795 - val_loss: 96.5545 - val_rmse: 9.8193 - val_mse: 96.5545\n",
      "Epoch 42/60\n",
      "1/1 [==============================] - 0s 326ms/step - loss: 65.1099 - rmse: 8.0691 - mse: 65.1099 - val_loss: 111.5715 - val_rmse: 10.5465 - val_mse: 111.5715\n",
      "Epoch 43/60\n",
      "1/1 [==============================] - 0s 335ms/step - loss: 118.9801 - rmse: 10.9078 - mse: 118.9801 - val_loss: 121.1016 - val_rmse: 10.9830 - val_mse: 121.1016\n",
      "Epoch 44/60\n",
      "1/1 [==============================] - 0s 293ms/step - loss: 138.2963 - rmse: 11.7599 - mse: 138.2963 - val_loss: 114.0637 - val_rmse: 10.6638 - val_mse: 114.0637\n",
      "Epoch 45/60\n",
      "1/1 [==============================] - 0s 300ms/step - loss: 94.8447 - rmse: 9.7388 - mse: 94.8447 - val_loss: 107.8585 - val_rmse: 10.3628 - val_mse: 107.8585\n",
      "Epoch 46/60\n",
      "1/1 [==============================] - 0s 337ms/step - loss: 104.4858 - rmse: 10.2218 - mse: 104.4858 - val_loss: 101.6988 - val_rmse: 10.0511 - val_mse: 101.6988\n",
      "Epoch 47/60\n",
      "1/1 [==============================] - 0s 289ms/step - loss: 105.5099 - rmse: 10.2718 - mse: 105.5099 - val_loss: 95.4923 - val_rmse: 9.7426 - val_mse: 95.4923\n",
      "Epoch 48/60\n",
      "1/1 [==============================] - 0s 282ms/step - loss: 112.4922 - rmse: 10.6062 - mse: 112.4922 - val_loss: 99.9465 - val_rmse: 9.9867 - val_mse: 99.9465\n",
      "Epoch 49/60\n",
      "1/1 [==============================] - 0s 316ms/step - loss: 80.1484 - rmse: 8.9526 - mse: 80.1484 - val_loss: 98.3760 - val_rmse: 9.9087 - val_mse: 98.3760\n",
      "Epoch 50/60\n",
      "1/1 [==============================] - 0s 309ms/step - loss: 99.4739 - rmse: 9.9737 - mse: 99.4739 - val_loss: 100.8365 - val_rmse: 10.0284 - val_mse: 100.8365\n",
      "Epoch 51/60\n",
      "1/1 [==============================] - 0s 281ms/step - loss: 106.3968 - rmse: 10.3149 - mse: 106.3968 - val_loss: 96.8554 - val_rmse: 9.8357 - val_mse: 96.8554\n",
      "Epoch 52/60\n",
      "1/1 [==============================] - 0s 285ms/step - loss: 122.8596 - rmse: 11.0842 - mse: 122.8596 - val_loss: 93.9573 - val_rmse: 9.6720 - val_mse: 93.9573\n",
      "Epoch 53/60\n",
      "1/1 [==============================] - 0s 302ms/step - loss: 108.9116 - rmse: 10.4361 - mse: 108.9116 - val_loss: 87.2400 - val_rmse: 9.3194 - val_mse: 87.2400\n",
      "Epoch 54/60\n",
      "1/1 [==============================] - 0s 303ms/step - loss: 113.9788 - rmse: 10.6761 - mse: 113.9788 - val_loss: 95.7993 - val_rmse: 9.7679 - val_mse: 95.7993\n",
      "Epoch 55/60\n",
      "1/1 [==============================] - 0s 299ms/step - loss: 78.4109 - rmse: 8.8550 - mse: 78.4109 - val_loss: 99.2785 - val_rmse: 9.9320 - val_mse: 99.2785\n",
      "Epoch 56/60\n",
      "1/1 [==============================] - 0s 324ms/step - loss: 89.8047 - rmse: 9.4765 - mse: 89.8047 - val_loss: 105.5992 - val_rmse: 10.2531 - val_mse: 105.5992\n",
      "Epoch 57/60\n",
      "1/1 [==============================] - 0s 316ms/step - loss: 64.6449 - rmse: 8.0402 - mse: 64.6449 - val_loss: 101.2798 - val_rmse: 10.0503 - val_mse: 101.2798\n",
      "Epoch 58/60\n",
      "1/1 [==============================] - 0s 318ms/step - loss: 64.4797 - rmse: 8.0299 - mse: 64.4797 - val_loss: 95.4585 - val_rmse: 9.7341 - val_mse: 95.4585\n",
      "Epoch 59/60\n",
      "1/1 [==============================] - 0s 321ms/step - loss: 89.2445 - rmse: 9.4469 - mse: 89.2445 - val_loss: 99.7424 - val_rmse: 9.9424 - val_mse: 99.7424\n",
      "Epoch 60/60\n",
      "1/1 [==============================] - 0s 280ms/step - loss: 87.8896 - rmse: 9.3749 - mse: 87.8896 - val_loss: 92.0710 - val_rmse: 9.5618 - val_mse: 92.0710\n",
      "CPU times: user 43.1 s, sys: 8.96 s, total: 52.1 s\n",
      "Wall time: 35 s\n"
     ]
    }
   ],
   "source": [
    "%%time\n",
    "steps_per_epoch = NUM_TRAIN_EXAMPLES // (BATCH_SIZE * NUM_EVALS)\n",
    "\n",
    "LOGDIR = \"./taxi_trained\"\n",
    "history = model.fit(x=trainds,\n",
    "                    steps_per_epoch=steps_per_epoch,\n",
    "                    epochs=NUM_EVALS,\n",
    "                    validation_data=evalds,\n",
    "                    callbacks=[TensorBoard(LOGDIR)])"
   ]
  },
  {
   "cell_type": "code",
   "execution_count": 14,
   "metadata": {},
   "outputs": [
    {
     "data": {
      "text/plain": [
       "<AxesSubplot:>"
      ]
     },
     "execution_count": 14,
     "metadata": {},
     "output_type": "execute_result"
    },
    {
     "data": {
      "image/png": "[encoded data removed]",
      "text/plain": [
       "<Figure size 432x288 with 1 Axes>"
      ]
     },
     "metadata": {
      "needs_background": "light"
     },
     "output_type": "display_data"
    }
   ],
   "source": [
    "RMSE_COLS = ['rmse', 'val_rmse']\n",
    "\n",
    "pd.DataFrame(history.history)[RMSE_COLS].plot()"
   ]
  },
  {
   "cell_type": "code",
   "execution_count": 15,
   "metadata": {},
   "outputs": [
    {
     "name": "stdout",
     "output_type": "stream",
     "text": [
      "WARNING:tensorflow:Layers in a Sequential model should only have a single input tensor, but we receive a <class 'dict'> input: {'dayofweek': <tf.Tensor 'ExpandDims:0' shape=(1, 1) dtype=int32>, 'hourofday': <tf.Tensor 'ExpandDims_3:0' shape=(1, 1) dtype=int32>, 'pickup_longitude': <tf.Tensor 'ExpandDims_5:0' shape=(1, 1) dtype=float32>, 'pickup_latitude': <tf.Tensor 'ExpandDims_4:0' shape=(1, 1) dtype=float32>, 'dropoff_longitude': <tf.Tensor 'ExpandDims_2:0' shape=(1, 1) dtype=float32>, 'dropoff_latitude': <tf.Tensor 'ExpandDims_1:0' shape=(1, 1) dtype=float32>, 'traffic_last_5min': <tf.Tensor 'ExpandDims_6:0' shape=(1, 1) dtype=int32>}\n",
      "Consider rewriting this model with the Functional API.\n"
     ]
    },
    {
     "data": {
      "text/plain": [
       "array([[-2.3478496]], dtype=float32)"
      ]
     },
     "execution_count": 15,
     "metadata": {},
     "output_type": "execute_result"
    }
   ],
   "source": [
    "model.predict(x={\"dayofweek\": tf.convert_to_tensor([6]),\n",
    "                 \"hourofday\": tf.convert_to_tensor([17]),\n",
    "                 \"pickup_longitude\": tf.convert_to_tensor([-73.982683]),\n",
    "                 \"pickup_latitude\": tf.convert_to_tensor([40.742104]),\n",
    "                 \"dropoff_longitude\": tf.convert_to_tensor([-73.983766]),\n",
    "                 \"dropoff_latitude\": tf.convert_to_tensor([40.755174]),\n",
    "                \"traffic_last_5min\": tf.convert_to_tensor([114])},\n",
    "              steps=1)"
   ]
  },
  {
   "cell_type": "markdown",
   "metadata": {},
   "source": [
    "## Export and deploy model"
   ]
  },
  {
   "cell_type": "code",
   "execution_count": 16,
   "metadata": {},
   "outputs": [
    {
     "name": "stdout",
     "output_type": "stream",
     "text": [
      "WARNING:tensorflow:Layers in a Sequential model should only have a single input tensor, but we receive a <class 'collections.OrderedDict'> input: OrderedDict([('dayofweek', <tf.Tensor 'dayofweek:0' shape=(None, 1) dtype=float32>), ('hourofday', <tf.Tensor 'hourofday:0' shape=(None, 1) dtype=float32>), ('pickup_longitude', <tf.Tensor 'pickup_longitude:0' shape=(None, 1) dtype=float32>), ('pickup_latitude', <tf.Tensor 'pickup_latitude:0' shape=(None, 1) dtype=float32>), ('dropoff_longitude', <tf.Tensor 'dropoff_longitude:0' shape=(None, 1) dtype=float32>), ('dropoff_latitude', <tf.Tensor 'dropoff_latitude:0' shape=(None, 1) dtype=float32>), ('traffic_last_5min', <tf.Tensor 'traffic_last_5min:0' shape=(None, 1) dtype=float32>)])\n",
      "Consider rewriting this model with the Functional API.\n",
      "WARNING:tensorflow:Layers in a Sequential model should only have a single input tensor, but we receive a <class 'collections.OrderedDict'> input: OrderedDict([('dayofweek', <tf.Tensor 'dayofweek:0' shape=(None, 1) dtype=float32>), ('hourofday', <tf.Tensor 'hourofday:0' shape=(None, 1) dtype=float32>), ('pickup_longitude', <tf.Tensor 'pickup_longitude:0' shape=(None, 1) dtype=float32>), ('pickup_latitude', <tf.Tensor 'pickup_latitude:0' shape=(None, 1) dtype=float32>), ('dropoff_longitude', <tf.Tensor 'dropoff_longitude:0' shape=(None, 1) dtype=float32>), ('dropoff_latitude', <tf.Tensor 'dropoff_latitude:0' shape=(None, 1) dtype=float32>), ('traffic_last_5min', <tf.Tensor 'traffic_last_5min:0' shape=(None, 1) dtype=float32>)])\n",
      "Consider rewriting this model with the Functional API.\n",
      "WARNING:tensorflow:Layers in a Sequential model should only have a single input tensor, but we receive a <class 'collections.OrderedDict'> input: OrderedDict([('dayofweek', <tf.Tensor 'dayofweek:0' shape=(None, 1) dtype=float32>), ('hourofday', <tf.Tensor 'hourofday:0' shape=(None, 1) dtype=float32>), ('pickup_longitude', <tf.Tensor 'pickup_longitude:0' shape=(None, 1) dtype=float32>), ('pickup_latitude', <tf.Tensor 'pickup_latitude:0' shape=(None, 1) dtype=float32>), ('dropoff_longitude', <tf.Tensor 'dropoff_longitude:0' shape=(None, 1) dtype=float32>), ('dropoff_latitude', <tf.Tensor 'dropoff_latitude:0' shape=(None, 1) dtype=float32>), ('traffic_last_5min', <tf.Tensor 'traffic_last_5min:0' shape=(None, 1) dtype=float32>)])\n",
      "Consider rewriting this model with the Functional API.\n",
      "WARNING:tensorflow:Layers in a Sequential model should only have a single input tensor, but we receive a <class 'collections.OrderedDict'> input: OrderedDict([('dayofweek', <tf.Tensor 'inputs:0' shape=(None, 1) dtype=float32>), ('hourofday', <tf.Tensor 'inputs_3:0' shape=(None, 1) dtype=float32>), ('pickup_longitude', <tf.Tensor 'inputs_5:0' shape=(None, 1) dtype=float32>), ('pickup_latitude', <tf.Tensor 'inputs_4:0' shape=(None, 1) dtype=float32>), ('dropoff_longitude', <tf.Tensor 'inputs_2:0' shape=(None, 1) dtype=float32>), ('dropoff_latitude', <tf.Tensor 'inputs_1:0' shape=(None, 1) dtype=float32>), ('traffic_last_5min', <tf.Tensor 'inputs_6:0' shape=(None, 1) dtype=float32>)])\n",
      "Consider rewriting this model with the Functional API.\n",
      "WARNING:tensorflow:Layers in a Sequential model should only have a single input tensor, but we receive a <class 'collections.OrderedDict'> input: OrderedDict([('dayofweek', <tf.Tensor 'inputs:0' shape=(None, 1) dtype=float32>), ('hourofday', <tf.Tensor 'inputs_3:0' shape=(None, 1) dtype=float32>), ('pickup_longitude', <tf.Tensor 'inputs_5:0' shape=(None, 1) dtype=float32>), ('pickup_latitude', <tf.Tensor 'inputs_4:0' shape=(None, 1) dtype=float32>), ('dropoff_longitude', <tf.Tensor 'inputs_2:0' shape=(None, 1) dtype=float32>), ('dropoff_latitude', <tf.Tensor 'inputs_1:0' shape=(None, 1) dtype=float32>), ('traffic_last_5min', <tf.Tensor 'inputs_6:0' shape=(None, 1) dtype=float32>)])\n",
      "Consider rewriting this model with the Functional API.\n",
      "WARNING:tensorflow:From /opt/conda/lib/python3.7/site-packages/tensorflow/python/training/tracking/tracking.py:111: Model.state_updates (from tensorflow.python.keras.engine.training) is deprecated and will be removed in a future version.\n",
      "Instructions for updating:\n",
      "This property should not be used in TensorFlow 2.0, as updates are applied automatically.\n",
      "WARNING:tensorflow:From /opt/conda/lib/python3.7/site-packages/tensorflow/python/training/tracking/tracking.py:111: Layer.updates (from tensorflow.python.keras.engine.base_layer) is deprecated and will be removed in a future version.\n",
      "Instructions for updating:\n",
      "This property should not be used in TensorFlow 2.0, as updates are applied automatically.\n",
      "WARNING:tensorflow:Layers in a Sequential model should only have a single input tensor, but we receive a <class 'collections.OrderedDict'> input: OrderedDict([('dayofweek', <tf.Tensor 'dayofweek:0' shape=(None, 1) dtype=float32>), ('hourofday', <tf.Tensor 'hourofday:0' shape=(None, 1) dtype=float32>), ('pickup_longitude', <tf.Tensor 'pickup_longitude:0' shape=(None, 1) dtype=float32>), ('pickup_latitude', <tf.Tensor 'pickup_latitude:0' shape=(None, 1) dtype=float32>), ('dropoff_longitude', <tf.Tensor 'dropoff_longitude:0' shape=(None, 1) dtype=float32>), ('dropoff_latitude', <tf.Tensor 'dropoff_latitude:0' shape=(None, 1) dtype=float32>), ('traffic_last_5min', <tf.Tensor 'traffic_last_5min:0' shape=(None, 1) dtype=float32>)])\n",
      "Consider rewriting this model with the Functional API.\n",
      "WARNING:tensorflow:Layers in a Sequential model should only have a single input tensor, but we receive a <class 'collections.OrderedDict'> input: OrderedDict([('dayofweek', <tf.Tensor 'dayofweek:0' shape=(None, 1) dtype=float32>), ('hourofday', <tf.Tensor 'hourofday:0' shape=(None, 1) dtype=float32>), ('pickup_longitude', <tf.Tensor 'pickup_longitude:0' shape=(None, 1) dtype=float32>), ('pickup_latitude', <tf.Tensor 'pickup_latitude:0' shape=(None, 1) dtype=float32>), ('dropoff_longitude', <tf.Tensor 'dropoff_longitude:0' shape=(None, 1) dtype=float32>), ('dropoff_latitude', <tf.Tensor 'dropoff_latitude:0' shape=(None, 1) dtype=float32>), ('traffic_last_5min', <tf.Tensor 'traffic_last_5min:0' shape=(None, 1) dtype=float32>)])\n",
      "Consider rewriting this model with the Functional API.\n",
      "WARNING:tensorflow:Layers in a Sequential model should only have a single input tensor, but we receive a <class 'collections.OrderedDict'> input: OrderedDict([('dayofweek', <tf.Tensor 'inputs/dayofweek:0' shape=(None, 1) dtype=float32>), ('hourofday', <tf.Tensor 'inputs/hourofday:0' shape=(None, 1) dtype=float32>), ('pickup_longitude', <tf.Tensor 'inputs/pickup_longitude:0' shape=(None, 1) dtype=float32>), ('pickup_latitude', <tf.Tensor 'inputs/pickup_latitude:0' shape=(None, 1) dtype=float32>), ('dropoff_longitude', <tf.Tensor 'inputs/dropoff_longitude:0' shape=(None, 1) dtype=float32>), ('dropoff_latitude', <tf.Tensor 'inputs/dropoff_latitude:0' shape=(None, 1) dtype=float32>), ('traffic_last_5min', <tf.Tensor 'inputs/traffic_last_5min:0' shape=(None, 1) dtype=float32>)])\n",
      "Consider rewriting this model with the Functional API.\n",
      "WARNING:tensorflow:Layers in a Sequential model should only have a single input tensor, but we receive a <class 'collections.OrderedDict'> input: OrderedDict([('dayofweek', <tf.Tensor 'inputs/dayofweek:0' shape=(None, 1) dtype=float32>), ('hourofday', <tf.Tensor 'inputs/hourofday:0' shape=(None, 1) dtype=float32>), ('pickup_longitude', <tf.Tensor 'inputs/pickup_longitude:0' shape=(None, 1) dtype=float32>), ('pickup_latitude', <tf.Tensor 'inputs/pickup_latitude:0' shape=(None, 1) dtype=float32>), ('dropoff_longitude', <tf.Tensor 'inputs/dropoff_longitude:0' shape=(None, 1) dtype=float32>), ('dropoff_latitude', <tf.Tensor 'inputs/dropoff_latitude:0' shape=(None, 1) dtype=float32>), ('traffic_last_5min', <tf.Tensor 'inputs/traffic_last_5min:0' shape=(None, 1) dtype=float32>)])\n",
      "Consider rewriting this model with the Functional API.\n",
      "INFO:tensorflow:Assets written to: ./export/savedmodel/20210604050142/assets\n"
     ]
    }
   ],
   "source": [
    "OUTPUT_DIR = \"./export/savedmodel\"\n",
    "shutil.rmtree(OUTPUT_DIR, ignore_errors=True)\n",
    "EXPORT_PATH = os.path.join(OUTPUT_DIR,\n",
    "                           datetime.datetime.now().strftime(\"%Y%m%d%H%M%S\"))\n",
    "tf.saved_model.save(model, EXPORT_PATH)  # with default serving function\n",
    "os.environ['EXPORT_PATH'] = EXPORT_PATH"
   ]
  },
  {
   "cell_type": "code",
   "execution_count": 17,
   "metadata": {},
   "outputs": [
    {
     "name": "stdout",
     "output_type": "stream",
     "text": [
      "Creating taxifare\n",
      "Creating taxifare:traffic\n"
     ]
    },
    {
     "name": "stderr",
     "output_type": "stream",
     "text": [
      "Using endpoint [https://us-central1-ml.googleapis.com/]\n",
      "Using endpoint [https://us-central1-ml.googleapis.com/]\n",
      "Created ai platform model [projects/qwiklabs-gcp-02-15ad15b6da61/models/taxifare].\n",
      "Using endpoint [https://us-central1-ml.googleapis.com/]\n",
      "Using endpoint [https://us-central1-ml.googleapis.com/]\n"
     ]
    }
   ],
   "source": [
    "%%bash\n",
    "PROJECT=${PROJECT}\n",
    "BUCKET=${BUCKET}\n",
    "REGION=${REGION}\n",
    "MODEL_NAME=taxifare\n",
    "VERSION_NAME=traffic\n",
    "\n",
    "if [[ $(gcloud ai-platform models list --format='value(name)' --region=$REGION | grep \"^$MODEL_NAME$\") ]]; then\n",
    "    echo \"$MODEL_NAME already exists\"\n",
    "else\n",
    "    # create model\n",
    "    echo \"Creating $MODEL_NAME\"\n",
    "    gcloud ai-platform models create --region=$REGION $MODEL_NAME\n",
    "fi\n",
    "\n",
    "if [[ $(gcloud ai-platform versions list --model $MODEL_NAME --format='value(name)' --region=$REGION | grep \"^$VERSION_NAME$\") ]]; then\n",
    "    echo \"Deleting already existing $MODEL_NAME:$VERSION_NAME ... \"\n",
    "    gcloud ai-platform versions delete --model=$MODEL_NAME $VERSION_NAME --region=$REGION\n",
    "    echo \"Please run this cell again if you don't see a Creating message ... \"\n",
    "    sleep 2\n",
    "fi\n",
    "\n",
    "# create model\n",
    "echo \"Creating $MODEL_NAME:$VERSION_NAME\"\n",
    "gcloud ai-platform versions create --model=$MODEL_NAME $VERSION_NAME --async \\\n",
    "       --framework=tensorflow --python-version=3.5 --runtime-version=1.14 \\\n",
    "       --origin=${EXPORT_PATH} --staging-bucket=gs://$BUCKET --region=$REGION"
   ]
  },
  {
   "cell_type": "markdown",
   "metadata": {},
   "source": [
    "Copyright 2019 Google Inc. Licensed under the Apache License, Version 2.0 (the \"License\"); you may not use this file except in compliance with the License. You may obtain a copy of the License at http://www.apache.org/licenses/LICENSE-2.0 Unless required by applicable law or agreed to in writing, software distributed under the License is distributed on an \"AS IS\" BASIS, WITHOUT WARRANTIES OR CONDITIONS OF ANY KIND, either express or implied. See the License for the specific language governing permissions and limitations under the License"
   ]
  }
 ],
 "metadata": {
  "environment": {
   "name": "tf2-gpu.2-1.m69",
   "type": "gcloud",
   "uri": "gcr.io/deeplearning-platform-release/tf2-gpu.2-1:m69"
  },
  "kernelspec": {
   "display_name": "Python 3",
   "language": "python",
   "name": "python3"
  },
  "language_info": {
   "codemirror_mode": {
    "name": "ipython",
    "version": 3
   },
   "file_extension": ".py",
   "mimetype": "text/x-python",
   "name": "python",
   "nbconvert_exporter": "python",
   "pygments_lexer": "ipython3",
   "version": "3.7.10"
  }
 },
 "nbformat": 4,
 "nbformat_minor": 4
}
