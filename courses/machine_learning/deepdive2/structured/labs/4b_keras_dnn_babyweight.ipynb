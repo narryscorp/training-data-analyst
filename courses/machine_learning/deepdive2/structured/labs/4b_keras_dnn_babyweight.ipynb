{
 "cells": [
  {
   "cell_type": "markdown",
   "metadata": {},
   "source": [
    "# LAB 4b:  Create Keras DNN model.\n",
    "\n",
    "**Learning Objectives**\n",
    "\n",
    "1. Set CSV Columns, label column, and column defaults\n",
    "1. Make dataset of features and label from CSV files\n",
    "1. Create input layers for raw features\n",
    "1. Create feature columns for inputs\n",
    "1. Create DNN dense hidden layers and output layer\n",
    "1. Create custom evaluation metric\n",
    "1. Build DNN model tying all of the pieces together\n",
    "1. Train and evaluate\n",
    "\n",
    "\n",
    "## Introduction \n",
    "In this notebook, we'll be using Keras to create a DNN model to predict the weight of a baby before it is born.\n",
    "\n",
    "We'll start by defining the CSV column names, label column, and column defaults for our data inputs. Then, we'll construct a tf.data Dataset of features and the label from the CSV files and create inputs layers for the raw features. Next, we'll set up feature columns for the model inputs and build a deep neural network in Keras. We'll create a custom evaluation metric and build our DNN model. Finally, we'll train and evaluate our model.\n",
    "\n",
    "Each learning objective will correspond to a __#TODO__ in this student lab notebook -- try to complete this notebook first and then review the [solution notebook](../solutions/4b_keras_dnn_babyweight.ipynb)."
   ]
  },
  {
   "cell_type": "markdown",
   "metadata": {
    "colab_type": "text",
    "id": "hJ7ByvoXzpVI"
   },
   "source": [
    "## Load necessary libraries"
   ]
  },
  {
   "cell_type": "code",
   "execution_count": 1,
   "metadata": {
    "collapsed": false,
    "jupyter": {
     "outputs_hidden": false
    }
   },
   "outputs": [
    {
     "name": "stdout",
     "output_type": "stream",
     "text": [
      "2.3.0\n"
     ]
    }
   ],
   "source": [
    "import datetime\n",
    "import os\n",
    "import shutil\n",
    "import matplotlib.pyplot as plt\n",
    "import tensorflow as tf\n",
    "print(tf.__version__)"
   ]
  },
  {
   "cell_type": "markdown",
   "metadata": {},
   "source": [
    "Set you bucket:"
   ]
  },
  {
   "cell_type": "code",
   "execution_count": 2,
   "metadata": {},
   "outputs": [],
   "source": [
    "BUCKET = 'qwiklabs-gcp-02-15ad15b6da61' # REPLACE BY YOUR BUCKET\n",
    "\n",
    "os.environ['BUCKET'] = BUCKET"
   ]
  },
  {
   "cell_type": "markdown",
   "metadata": {},
   "source": [
    "## Verify CSV files exist\n",
    "\n",
    "In the seventh lab of this series [1b_prepare_data_babyweight](../solutions/1b_prepare_data_babyweight.ipynb), we sampled from BigQuery our train, eval, and test CSV files. Verify that they exist, otherwise go back to that lab and create them."
   ]
  },
  {
   "cell_type": "code",
   "execution_count": 3,
   "metadata": {
    "collapsed": false,
    "jupyter": {
     "outputs_hidden": false
    }
   },
   "outputs": [],
   "source": [
    "TRAIN_DATA_PATH = \"gs://{bucket}/babyweight/data/train*.csv\".format(bucket=BUCKET)\n",
    "EVAL_DATA_PATH = \"gs://{bucket}/babyweight/data/eval*.csv\".format(bucket=BUCKET)"
   ]
  },
  {
   "cell_type": "code",
   "execution_count": 4,
   "metadata": {},
   "outputs": [
    {
     "name": "stdout",
     "output_type": "stream",
     "text": [
      "gs://qwiklabs-gcp-02-15ad15b6da61/babyweight/data/train000000000000.csv\n",
      "gs://qwiklabs-gcp-02-15ad15b6da61/babyweight/data/train000000000001.csv\n",
      "gs://qwiklabs-gcp-02-15ad15b6da61/babyweight/data/train000000000002.csv\n",
      "gs://qwiklabs-gcp-02-15ad15b6da61/babyweight/data/train000000000003.csv\n",
      "gs://qwiklabs-gcp-02-15ad15b6da61/babyweight/data/train000000000004.csv\n",
      "gs://qwiklabs-gcp-02-15ad15b6da61/babyweight/data/train000000000005.csv\n"
     ]
    }
   ],
   "source": [
    "!gsutil ls $TRAIN_DATA_PATH"
   ]
  },
  {
   "cell_type": "code",
   "execution_count": 5,
   "metadata": {},
   "outputs": [
    {
     "name": "stdout",
     "output_type": "stream",
     "text": [
      "gs://qwiklabs-gcp-02-15ad15b6da61/babyweight/data/eval000000000000.csv\n",
      "gs://qwiklabs-gcp-02-15ad15b6da61/babyweight/data/eval000000000001.csv\n"
     ]
    }
   ],
   "source": [
    "!gsutil ls $EVAL_DATA_PATH"
   ]
  },
  {
   "cell_type": "markdown",
   "metadata": {},
   "source": [
    "## Create Keras model"
   ]
  },
  {
   "cell_type": "markdown",
   "metadata": {},
   "source": [
    "### Lab Task #1: Set CSV Columns, label column, and column defaults.\n",
    "\n",
    "Now that we have verified that our CSV files exist, we need to set a few things that we will be using in our input function.\n",
    "* `CSV_COLUMNS` are going to be our header names of our columns. Make sure that they are in the same order as in the CSV files\n",
    "* `LABEL_COLUMN` is the header name of the column that is our label. We will need to know this to pop it from our features dictionary.\n",
    "* `DEFAULTS` is a list with the same length as `CSV_COLUMNS`, i.e. there is a default for each column in our CSVs. Each element is a list itself with the default value for that CSV column."
   ]
  },
  {
   "cell_type": "code",
   "execution_count": 6,
   "metadata": {},
   "outputs": [],
   "source": [
    "# Determine CSV, label, and key columns\n",
    "# TODO: Create list of string column headers, make sure order matches.\n",
    "CSV_COLUMNS = [\"weight_pounds\", \"is_male\", \"mother_age\", \"plurality\", \"gestation_weeks\"]\n",
    "\n",
    "# TODO: Add string name for label column\n",
    "LABEL_COLUMN = \"weight_pounds\"\n",
    "\n",
    "# Set default values for each CSV column as a list of lists.\n",
    "# Treat is_male and plurality as strings.\n",
    "DEFAULTS = [[1.0], [\"null\"], [15.0], [\"null\"], [1.0]]"
   ]
  },
  {
   "cell_type": "markdown",
   "metadata": {},
   "source": [
    "### Lab Task #2: Make dataset of features and label from CSV files.\n",
    "\n",
    "Next, we will write an input_fn to read the data. Since we are reading from CSV files we can save ourself from trying to recreate the wheel and can use `tf.data.experimental.make_csv_dataset`. This will create a CSV dataset object. However we will need to divide the columns up into features and a label. We can do this by applying the map method to our dataset and popping our label column off of our dictionary of feature tensors."
   ]
  },
  {
   "cell_type": "code",
   "execution_count": 7,
   "metadata": {},
   "outputs": [],
   "source": [
    "def features_and_labels(row_data):\n",
    "    \"\"\"Splits features and labels from feature dictionary.\n",
    "\n",
    "    Args:\n",
    "        row_data: Dictionary of CSV column names and tensor values.\n",
    "    Returns:\n",
    "        Dictionary of feature tensors and label tensor.\n",
    "    \"\"\"\n",
    "    label = row_data.pop(LABEL_COLUMN)\n",
    "\n",
    "    return row_data, label  # features, label\n",
    "\n",
    "\n",
    "def load_dataset(pattern, batch_size=1, mode=tf.estimator.ModeKeys.EVAL):\n",
    "    \"\"\"Loads dataset using the tf.data API from CSV files.\n",
    "\n",
    "    Args:\n",
    "        pattern: str, file pattern to glob into list of files.\n",
    "        batch_size: int, the number of examples per batch.\n",
    "        mode: tf.estimator.ModeKeys to determine if training or evaluating.\n",
    "    Returns:\n",
    "        `Dataset` object.\n",
    "    \"\"\"\n",
    "    # TODO: Make a CSV dataset\n",
    "    dataset = tf.data.experimental.make_csv_dataset(file_pattern=pattern,\n",
    "        batch_size=batch_size,\n",
    "        column_names=CSV_COLUMNS,\n",
    "        column_defaults=DEFAULTS)\n",
    "\n",
    "    # TODO: Map dataset to features and label\n",
    "    dataset = dataset.map(map_func=features_and_labels)  # features, label\n",
    "\n",
    "    # Shuffle and repeat for training\n",
    "    if mode == tf.estimator.ModeKeys.TRAIN:\n",
    "        dataset = dataset.shuffle(buffer_size=1000).repeat()\n",
    "\n",
    "    # Take advantage of multi-threading; 1=AUTOTUNE\n",
    "    dataset = dataset.prefetch(buffer_size=1)\n",
    "\n",
    "    return dataset"
   ]
  },
  {
   "cell_type": "markdown",
   "metadata": {},
   "source": [
    "### Lab Task #3: Create input layers for raw features.\n",
    "\n",
    "We'll need to get the data read in by our input function to our model function, but just how do we go about connecting the dots? We can use Keras input layers [(tf.Keras.layers.Input)](https://www.tensorflow.org/api_docs/python/tf/keras/Input) by defining:\n",
    "* shape: A shape tuple (integers), not including the batch size. For instance, shape=(32,) indicates that the expected input will be batches of 32-dimensional vectors. Elements of this tuple can be None; 'None' elements represent dimensions where the shape is not known.\n",
    "* name: An optional name string for the layer. Should be unique in a model (do not reuse the same name twice). It will be autogenerated if it isn't provided.\n",
    "* dtype: The data type expected by the input, as a string (float32, float64, int32...)"
   ]
  },
  {
   "cell_type": "code",
   "execution_count": 8,
   "metadata": {},
   "outputs": [],
   "source": [
    "def create_input_layers():\n",
    "    \"\"\"Creates dictionary of input layers for each feature.\n",
    "\n",
    "    Returns:\n",
    "        Dictionary of `tf.Keras.layers.Input` layers for each feature.\n",
    "    \"\"\"\n",
    "    # TODO: Create dictionary of tf.keras.layers.Input for each raw feature\n",
    "    inputs = {colname: tf.keras.layers.Input(\n",
    "            name=colname, shape=(), dtype=\"float32\")\n",
    "        for colname in [\"mother_age\", \"gestation_weeks\"]}\n",
    "    \n",
    "    inputs.update({\n",
    "        colname: tf.keras.layers.Input(\n",
    "            name=colname, shape=(), dtype=\"string\")\n",
    "        for colname in [\"is_male\", \"plurality\"]})\n",
    "\n",
    "    return inputs"
   ]
  },
  {
   "cell_type": "markdown",
   "metadata": {},
   "source": [
    "### Lab Task #4: Create feature columns for inputs.\n",
    "\n",
    "Next, define the feature columns. `mother_age` and `gestation_weeks` should be numeric. The others, `is_male` and `plurality`, should be categorical. Remember, only dense feature columns can be inputs to a DNN."
   ]
  },
  {
   "cell_type": "code",
   "execution_count": 9,
   "metadata": {},
   "outputs": [],
   "source": [
    "def categorical_fc(name, values):\n",
    "    \"\"\"Helper function to wrap categorical feature by indicator column.\n",
    "\n",
    "    Args:\n",
    "        name: str, name of feature.\n",
    "        values: list, list of strings of categorical values.\n",
    "    Returns:\n",
    "        Indicator column of categorical feature.\n",
    "    \"\"\"\n",
    "    cat_column = tf.feature_column.categorical_column_with_vocabulary_list(\n",
    "            key=name, vocabulary_list=values)\n",
    "\n",
    "    return tf.feature_column.indicator_column(categorical_column=cat_column)\n",
    "\n",
    "def create_feature_columns():\n",
    "    \"\"\"Creates dictionary of feature columns from inputs.\n",
    "\n",
    "    Returns:\n",
    "        Dictionary of feature columns.\n",
    "    \"\"\"\n",
    "    # TODO: Create feature columns for numeric features\n",
    "    feature_columns = {colname : tf.feature_column.numeric_column(key=colname)\n",
    "           for colname in [\"mother_age\", \"gestation_weeks\"]}\n",
    "\n",
    "    feature_columns[\"is_male\"] = categorical_fc(\"is_male\", [\"True\", \"False\", \"Unknown\"])\n",
    "    feature_columns[\"plurality\"] = categorical_fc(\"plurality\", [\"Single(1)\", \"Twins(2)\", \"Triplets(3)\",\n",
    "                      \"Quadruplets(4)\", \"Quintuplets(5)\", \"Multiple(2+)\"])# TODO: Add feature columns for categorical features\n",
    "    \n",
    "    return feature_columns"
   ]
  },
  {
   "cell_type": "markdown",
   "metadata": {},
   "source": [
    "### Lab Task #5: Create DNN dense hidden layers and output layer.\n",
    "\n",
    "So we've figured out how to get our inputs ready for machine learning but now we need to connect them to our desired output. Our model architecture is what links the two together. Let's create some hidden dense layers beginning with our inputs and end with a dense output layer. This is regression so make sure the output layer activation is correct and that the shape is right."
   ]
  },
  {
   "cell_type": "code",
   "execution_count": 10,
   "metadata": {},
   "outputs": [],
   "source": [
    "def get_model_outputs(inputs):\n",
    "    \"\"\"Creates model architecture and returns outputs.\n",
    "\n",
    "    Args:\n",
    "        inputs: Dense tensor used as inputs to model.\n",
    "    Returns:\n",
    "        Dense tensor output from the model.\n",
    "    \"\"\"\n",
    "    # TODO: Create two hidden layers of [64, 32] just in like the BQML DNN\n",
    "    h1 = tf.keras.layers.Dense(64, activation=\"relu\", name=\"h1\")(inputs)\n",
    "    h2 = tf.keras.layers.Dense(32, activation=\"relu\", name=\"h2\")(h1)\n",
    "\n",
    "    # TODO: Create final output layer\n",
    "    output = tf.keras.layers.Dense(units=1, activation=\"linear\", name=\"weight\")(h2)\n",
    "\n",
    "    return output"
   ]
  },
  {
   "cell_type": "markdown",
   "metadata": {},
   "source": [
    "### Lab Task #6: Create custom evaluation metric.\n",
    "\n",
    "We want to make sure that we have some useful way to measure model performance for us. Since this is regression, we would like to know the RMSE of the model on our evaluation dataset, however, this does not exist as a standard evaluation metric, so we'll have to create our own by using the true and predicted labels."
   ]
  },
  {
   "cell_type": "code",
   "execution_count": 11,
   "metadata": {},
   "outputs": [],
   "source": [
    "def rmse(y_true, y_pred):\n",
    "    \"\"\"Calculates RMSE evaluation metric.\n",
    "\n",
    "    Args:\n",
    "        y_true: tensor, true labels.\n",
    "        y_pred: tensor, predicted labels.\n",
    "    Returns:\n",
    "        Tensor with value of RMSE between true and predicted labels.\n",
    "    \"\"\"\n",
    "    # TODO: Calculate RMSE from true and predicted labels\n",
    "    return tf.sqrt(tf.reduce_mean((y_pred - y_true) ** 2)) #pass"
   ]
  },
  {
   "cell_type": "markdown",
   "metadata": {},
   "source": [
    "### Lab Task #7: Build DNN model tying all of the pieces together.\n",
    "\n",
    "Excellent! We've assembled all of the pieces, now we just need to tie them all together into a Keras Model. This is a simple feedforward model with no branching, side inputs, etc. so we could have used Keras' Sequential Model API but just for fun we're going to use Keras' Functional Model API. Here we will build the model using [tf.keras.models.Model](https://www.tensorflow.org/api_docs/python/tf/keras/Model) giving our inputs and outputs and then compile our model with an optimizer, a loss function, and evaluation metrics."
   ]
  },
  {
   "cell_type": "code",
   "execution_count": 12,
   "metadata": {},
   "outputs": [
    {
     "name": "stdout",
     "output_type": "stream",
     "text": [
      "Here is our DNN architecture so far:\n",
      "\n",
      "Model: \"functional_1\"\n",
      "__________________________________________________________________________________________________\n",
      "Layer (type)                    Output Shape         Param #     Connected to                     \n",
      "==================================================================================================\n",
      "gestation_weeks (InputLayer)    [(None,)]            0                                            \n",
      "__________________________________________________________________________________________________\n",
      "is_male (InputLayer)            [(None,)]            0                                            \n",
      "__________________________________________________________________________________________________\n",
      "mother_age (InputLayer)         [(None,)]            0                                            \n",
      "__________________________________________________________________________________________________\n",
      "plurality (InputLayer)          [(None,)]            0                                            \n",
      "__________________________________________________________________________________________________\n",
      "dense_features (DenseFeatures)  (None, 11)           0           gestation_weeks[0][0]            \n",
      "                                                                 is_male[0][0]                    \n",
      "                                                                 mother_age[0][0]                 \n",
      "                                                                 plurality[0][0]                  \n",
      "__________________________________________________________________________________________________\n",
      "h1 (Dense)                      (None, 64)           768         dense_features[0][0]             \n",
      "__________________________________________________________________________________________________\n",
      "h2 (Dense)                      (None, 32)           2080        h1[0][0]                         \n",
      "__________________________________________________________________________________________________\n",
      "weight (Dense)                  (None, 1)            33          h2[0][0]                         \n",
      "==================================================================================================\n",
      "Total params: 2,881\n",
      "Trainable params: 2,881\n",
      "Non-trainable params: 0\n",
      "__________________________________________________________________________________________________\n",
      "None\n"
     ]
    }
   ],
   "source": [
    "# Build a simple Keras DNN using its Functional API\n",
    "def build_dnn_model():\n",
    "    \"\"\"Builds simple DNN using Keras Functional API.\n",
    "\n",
    "    Returns:\n",
    "        `tf.keras.models.Model` object.\n",
    "    \"\"\"\n",
    "    # Create input layer\n",
    "    inputs = create_input_layers()\n",
    "\n",
    "    # Create feature columns\n",
    "    feature_columns = create_feature_columns()\n",
    "\n",
    "    # The constructor for DenseFeatures takes a list of numeric columns\n",
    "    # The Functional API in Keras requires: LayerConstructor()(inputs)\n",
    "    dnn_inputs = tf.keras.layers.DenseFeatures(\n",
    "        feature_columns=feature_columns.values())(inputs)\n",
    "\n",
    "    # Get output of model given inputs\n",
    "    output = get_model_outputs(dnn_inputs)\n",
    "\n",
    "    # Build model and compile it all together\n",
    "    model = tf.keras.models.Model(inputs=inputs, outputs=output)\n",
    "\n",
    "    # TODO: Add custom eval metrics to list\n",
    "    model.compile(optimizer=\"adam\", loss=\"mse\", metrics=[\"mse\"])\n",
    "\n",
    "    return model\n",
    "\n",
    "print(\"Here is our DNN architecture so far:\\n\")\n",
    "model = build_dnn_model()\n",
    "print(model.summary())"
   ]
  },
  {
   "cell_type": "markdown",
   "metadata": {},
   "source": [
    "We can visualize the DNN using the Keras plot_model utility."
   ]
  },
  {
   "cell_type": "code",
   "execution_count": 13,
   "metadata": {},
   "outputs": [
    {
     "data": {
      "image/png": "[encoded data removed]",
      "text/plain": [
       "<IPython.core.display.Image object>"
      ]
     },
     "execution_count": 13,
     "metadata": {},
     "output_type": "execute_result"
    }
   ],
   "source": [
    "tf.keras.utils.plot_model(\n",
    "    model=model, to_file=\"dnn_model.png\", show_shapes=False, rankdir=\"LR\")"
   ]
  },
  {
   "cell_type": "markdown",
   "metadata": {},
   "source": [
    "## Run and evaluate model"
   ]
  },
  {
   "cell_type": "markdown",
   "metadata": {},
   "source": [
    "### Lab Task #8: Train and evaluate.\n",
    "\n",
    "We've built our Keras model using our inputs from our CSV files and the architecture we designed. Let's now run our model by training our model parameters and periodically running an evaluation to track how well we are doing on outside data as training goes on. We'll need to load both our train and eval datasets and send those to our model through the fit method. Make sure you have the right pattern, batch size, and mode when loading the data. Also, don't forget to add the callback to TensorBoard."
   ]
  },
  {
   "cell_type": "code",
   "execution_count": 16,
   "metadata": {},
   "outputs": [
    {
     "name": "stdout",
     "output_type": "stream",
     "text": [
      "Epoch 1/50\n",
      " 1/10 [==>...........................] - ETA: 0s - loss: 2.8931 - mse: 2.8931WARNING:tensorflow:Callbacks method `on_train_batch_end` is slow compared to the batch time (batch time: 0.0026s vs `on_train_batch_end` time: 0.0321s). Check your callbacks.\n",
      "10/10 [==============================] - 1s 76ms/step - loss: 2.6729 - mse: 2.6729 - val_loss: 2.8123 - val_mse: 2.8123\n",
      "Epoch 2/50\n",
      "10/10 [==============================] - 1s 65ms/step - loss: 2.2540 - mse: 2.2540 - val_loss: 2.5656 - val_mse: 2.5656\n",
      "Epoch 3/50\n",
      "10/10 [==============================] - 1s 64ms/step - loss: 2.3580 - mse: 2.3580 - val_loss: 2.5900 - val_mse: 2.5900\n",
      "Epoch 4/50\n",
      "10/10 [==============================] - 1s 60ms/step - loss: 2.2590 - mse: 2.2590 - val_loss: 2.6642 - val_mse: 2.6642\n",
      "Epoch 5/50\n",
      "10/10 [==============================] - 1s 86ms/step - loss: 2.4886 - mse: 2.4886 - val_loss: 2.7052 - val_mse: 2.7052\n",
      "Epoch 6/50\n",
      "10/10 [==============================] - 1s 66ms/step - loss: 2.2252 - mse: 2.2252 - val_loss: 2.6348 - val_mse: 2.6348\n",
      "Epoch 7/50\n",
      "10/10 [==============================] - 1s 65ms/step - loss: 2.4938 - mse: 2.4938 - val_loss: 2.6127 - val_mse: 2.6127\n",
      "Epoch 8/50\n",
      "10/10 [==============================] - 1s 71ms/step - loss: 2.3195 - mse: 2.3195 - val_loss: 2.6976 - val_mse: 2.6976\n",
      "Epoch 9/50\n",
      "10/10 [==============================] - 1s 62ms/step - loss: 2.2959 - mse: 2.2959 - val_loss: 2.5963 - val_mse: 2.5963\n",
      "Epoch 10/50\n",
      "10/10 [==============================] - 1s 67ms/step - loss: 2.6611 - mse: 2.6611 - val_loss: 2.5941 - val_mse: 2.5941\n",
      "Epoch 11/50\n",
      "10/10 [==============================] - 1s 70ms/step - loss: 2.5323 - mse: 2.5323 - val_loss: 2.5975 - val_mse: 2.5975\n",
      "Epoch 12/50\n",
      "10/10 [==============================] - 1s 77ms/step - loss: 2.3709 - mse: 2.3709 - val_loss: 2.5742 - val_mse: 2.5742\n",
      "Epoch 13/50\n",
      "10/10 [==============================] - 1s 68ms/step - loss: 2.3579 - mse: 2.3579 - val_loss: 2.5570 - val_mse: 2.5570\n",
      "Epoch 14/50\n",
      "10/10 [==============================] - 1s 65ms/step - loss: 2.2145 - mse: 2.2145 - val_loss: 2.5298 - val_mse: 2.5298\n",
      "Epoch 15/50\n",
      "10/10 [==============================] - 1s 66ms/step - loss: 2.3664 - mse: 2.3664 - val_loss: 2.6541 - val_mse: 2.6541\n",
      "Epoch 16/50\n",
      "10/10 [==============================] - 1s 67ms/step - loss: 2.2418 - mse: 2.2418 - val_loss: 2.5640 - val_mse: 2.5640\n",
      "Epoch 17/50\n",
      "10/10 [==============================] - 1s 63ms/step - loss: 2.4729 - mse: 2.4729 - val_loss: 2.6310 - val_mse: 2.6310\n",
      "Epoch 18/50\n",
      "10/10 [==============================] - 1s 67ms/step - loss: 2.4403 - mse: 2.4403 - val_loss: 2.6494 - val_mse: 2.6494\n",
      "Epoch 19/50\n",
      "10/10 [==============================] - 1s 62ms/step - loss: 2.1997 - mse: 2.1997 - val_loss: 2.6637 - val_mse: 2.6637\n",
      "Epoch 20/50\n",
      "10/10 [==============================] - 1s 64ms/step - loss: 2.4546 - mse: 2.4546 - val_loss: 2.6630 - val_mse: 2.6630\n",
      "Epoch 21/50\n",
      "10/10 [==============================] - 1s 64ms/step - loss: 2.5279 - mse: 2.5279 - val_loss: 2.5292 - val_mse: 2.5292\n",
      "Epoch 22/50\n",
      "10/10 [==============================] - 1s 63ms/step - loss: 2.5247 - mse: 2.5247 - val_loss: 2.5806 - val_mse: 2.5806\n",
      "Epoch 23/50\n",
      "10/10 [==============================] - 1s 66ms/step - loss: 2.3235 - mse: 2.3235 - val_loss: 2.6582 - val_mse: 2.6582\n",
      "Epoch 24/50\n",
      "10/10 [==============================] - 1s 66ms/step - loss: 2.3556 - mse: 2.3556 - val_loss: 2.5207 - val_mse: 2.5207\n",
      "Epoch 25/50\n",
      "10/10 [==============================] - 1s 70ms/step - loss: 2.4645 - mse: 2.4645 - val_loss: 2.6709 - val_mse: 2.6709\n",
      "Epoch 26/50\n",
      "10/10 [==============================] - 1s 64ms/step - loss: 2.5551 - mse: 2.5551 - val_loss: 2.7190 - val_mse: 2.7190\n",
      "Epoch 27/50\n",
      "10/10 [==============================] - 1s 70ms/step - loss: 2.3547 - mse: 2.3547 - val_loss: 2.5226 - val_mse: 2.5226\n",
      "Epoch 28/50\n",
      "10/10 [==============================] - 1s 59ms/step - loss: 2.0341 - mse: 2.0341 - val_loss: 2.5942 - val_mse: 2.5942\n",
      "Epoch 29/50\n",
      "10/10 [==============================] - 1s 64ms/step - loss: 2.3808 - mse: 2.3808 - val_loss: 2.5556 - val_mse: 2.5556\n",
      "Epoch 30/50\n",
      "10/10 [==============================] - 1s 62ms/step - loss: 2.3096 - mse: 2.3096 - val_loss: 2.5726 - val_mse: 2.5726\n",
      "Epoch 31/50\n",
      "10/10 [==============================] - 1s 75ms/step - loss: 2.2567 - mse: 2.2567 - val_loss: 2.6299 - val_mse: 2.6299\n",
      "Epoch 32/50\n",
      "10/10 [==============================] - 1s 70ms/step - loss: 2.3173 - mse: 2.3173 - val_loss: 2.5771 - val_mse: 2.5771\n",
      "Epoch 33/50\n",
      "10/10 [==============================] - 1s 64ms/step - loss: 2.1736 - mse: 2.1736 - val_loss: 2.6019 - val_mse: 2.6019\n",
      "Epoch 34/50\n",
      "10/10 [==============================] - 1s 77ms/step - loss: 2.2208 - mse: 2.2208 - val_loss: 2.6209 - val_mse: 2.6209\n",
      "Epoch 35/50\n",
      "10/10 [==============================] - 1s 69ms/step - loss: 2.2863 - mse: 2.2863 - val_loss: 2.5386 - val_mse: 2.5386\n",
      "Epoch 36/50\n",
      "10/10 [==============================] - 1s 66ms/step - loss: 2.2754 - mse: 2.2754 - val_loss: 2.6817 - val_mse: 2.6817\n",
      "Epoch 37/50\n",
      "10/10 [==============================] - 1s 63ms/step - loss: 2.2653 - mse: 2.2653 - val_loss: 2.5871 - val_mse: 2.5871\n",
      "Epoch 38/50\n",
      "10/10 [==============================] - 1s 65ms/step - loss: 2.1258 - mse: 2.1258 - val_loss: 2.6002 - val_mse: 2.6002\n",
      "Epoch 39/50\n",
      "10/10 [==============================] - 1s 62ms/step - loss: 2.3747 - mse: 2.3747 - val_loss: 2.7334 - val_mse: 2.7334\n",
      "Epoch 40/50\n",
      "10/10 [==============================] - 1s 63ms/step - loss: 2.2271 - mse: 2.2271 - val_loss: 2.6102 - val_mse: 2.6102\n",
      "Epoch 41/50\n",
      "10/10 [==============================] - 1s 67ms/step - loss: 2.2500 - mse: 2.2500 - val_loss: 2.5072 - val_mse: 2.5072\n",
      "Epoch 42/50\n",
      "10/10 [==============================] - 1s 76ms/step - loss: 2.3377 - mse: 2.3377 - val_loss: 2.5707 - val_mse: 2.5707\n",
      "Epoch 43/50\n",
      "10/10 [==============================] - 1s 64ms/step - loss: 1.9811 - mse: 1.9811 - val_loss: 2.5337 - val_mse: 2.5337\n",
      "Epoch 44/50\n",
      "10/10 [==============================] - 1s 58ms/step - loss: 2.3438 - mse: 2.3438 - val_loss: 2.5429 - val_mse: 2.5429\n",
      "Epoch 45/50\n",
      "10/10 [==============================] - 1s 73ms/step - loss: 2.0553 - mse: 2.0553 - val_loss: 2.6429 - val_mse: 2.6429\n",
      "Epoch 46/50\n",
      "10/10 [==============================] - 1s 66ms/step - loss: 2.3018 - mse: 2.3018 - val_loss: 2.5436 - val_mse: 2.5436\n",
      "Epoch 47/50\n",
      "10/10 [==============================] - 1s 69ms/step - loss: 2.3280 - mse: 2.3280 - val_loss: 2.5139 - val_mse: 2.5139\n",
      "Epoch 48/50\n",
      "10/10 [==============================] - 1s 61ms/step - loss: 2.3754 - mse: 2.3754 - val_loss: 2.4794 - val_mse: 2.4794\n",
      "Epoch 49/50\n",
      "10/10 [==============================] - 1s 57ms/step - loss: 2.2917 - mse: 2.2917 - val_loss: 2.4919 - val_mse: 2.4919\n",
      "Epoch 50/50\n",
      "10/10 [==============================] - 1s 61ms/step - loss: 2.2008 - mse: 2.2008 - val_loss: 2.5578 - val_mse: 2.5578\n"
     ]
    }
   ],
   "source": [
    "TRAIN_BATCH_SIZE = 100\n",
    "NUM_TRAIN_EXAMPLES = 10000 * 5  # training dataset repeats, it'll wrap around\n",
    "NUM_EVALS = 50  # how many times to evaluate\n",
    "# Enough to get a reasonable sample, but not so much that it slows down\n",
    "NUM_EVAL_EXAMPLES = 10000\n",
    "\n",
    "# TODO: Load training dataset\n",
    "trainds = load_dataset(pattern=TRAIN_DATA_PATH, batch_size=TRAIN_BATCH_SIZE, mode='train')\n",
    "\n",
    "# TODO: Load evaluation dataset\n",
    "evalds = load_dataset(pattern=EVAL_DATA_PATH, batch_size=1000, mode='eval').take(count=NUM_EVAL_EXAMPLES // 1000)\n",
    "\n",
    "\n",
    "steps_per_epoch = NUM_TRAIN_EXAMPLES // (TRAIN_BATCH_SIZE * NUM_EVALS)\n",
    "\n",
    "logdir = os.path.join(\n",
    "    \"logs\", datetime.datetime.now().strftime(\"%Y%m%d-%H%M%S\"))\n",
    "tensorboard_callback = tf.keras.callbacks.TensorBoard(\n",
    "    log_dir=logdir, histogram_freq=1)\n",
    "\n",
    "# TODO: Fit model on training dataset and evaluate every so often\n",
    "history = model.fit(trainds, \n",
    "    validation_data=evalds,\n",
    "    epochs=NUM_EVALS,\n",
    "    steps_per_epoch=steps_per_epoch,\n",
    "    callbacks=[tensorboard_callback])"
   ]
  },
  {
   "cell_type": "markdown",
   "metadata": {},
   "source": [
    "### Visualize loss curve"
   ]
  },
  {
   "cell_type": "code",
   "execution_count": 17,
   "metadata": {},
   "outputs": [
    {
     "data": {
      "image/png": "[encoded data removed]",
      "text/plain": [
       "<Figure size 720x360 with 2 Axes>"
      ]
     },
     "metadata": {
      "needs_background": "light"
     },
     "output_type": "display_data"
    }
   ],
   "source": [
    "# Plot\n",
    "import matplotlib.pyplot as plt\n",
    "nrows = 1\n",
    "ncols = 2\n",
    "fig = plt.figure(figsize=(10, 5))\n",
    "\n",
    "for idx, key in enumerate([\"loss\", \"mse\"]):\n",
    "    ax = fig.add_subplot(nrows, ncols, idx+1)\n",
    "    plt.plot(history.history[key])\n",
    "    plt.plot(history.history[\"val_{}\".format(key)])\n",
    "    plt.title(\"model {}\".format(key))\n",
    "    plt.ylabel(key)\n",
    "    plt.xlabel(\"epoch\")\n",
    "    plt.legend([\"train\", \"validation\"], loc=\"upper left\");"
   ]
  },
  {
   "cell_type": "markdown",
   "metadata": {},
   "source": [
    "### Save the model"
   ]
  },
  {
   "cell_type": "code",
   "execution_count": 22,
   "metadata": {
    "collapsed": false,
    "jupyter": {
     "outputs_hidden": false
    }
   },
   "outputs": [
    {
     "name": "stdout",
     "output_type": "stream",
     "text": [
      "WARNING:tensorflow:From /opt/conda/lib/python3.7/site-packages/tensorflow/python/training/tracking/tracking.py:111: Model.state_updates (from tensorflow.python.keras.engine.training) is deprecated and will be removed in a future version.\n",
      "Instructions for updating:\n",
      "This property should not be used in TensorFlow 2.0, as updates are applied automatically.\n",
      "WARNING:tensorflow:From /opt/conda/lib/python3.7/site-packages/tensorflow/python/training/tracking/tracking.py:111: Layer.updates (from tensorflow.python.keras.engine.base_layer) is deprecated and will be removed in a future version.\n",
      "Instructions for updating:\n",
      "This property should not be used in TensorFlow 2.0, as updates are applied automatically.\n",
      "INFO:tensorflow:Assets written to: babyweight_trained/20210602045333/assets\n",
      "Exported trained model to babyweight_trained/20210602045333\n"
     ]
    }
   ],
   "source": [
    "OUTPUT_DIR = \"babyweight_trained\"\n",
    "shutil.rmtree(OUTPUT_DIR, ignore_errors=True)\n",
    "EXPORT_PATH = os.path.join(\n",
    "    OUTPUT_DIR, datetime.datetime.now().strftime(\"%Y%m%d%H%M%S\"))\n",
    "tf.saved_model.save(\n",
    "    obj=model, export_dir=EXPORT_PATH)  # with default serving function\n",
    "print(\"Exported trained model to {}\".format(EXPORT_PATH))"
   ]
  },
  {
   "cell_type": "code",
   "execution_count": 23,
   "metadata": {},
   "outputs": [
    {
     "name": "stdout",
     "output_type": "stream",
     "text": [
      "assets\tsaved_model.pb\tvariables\n"
     ]
    }
   ],
   "source": [
    "!ls $EXPORT_PATH"
   ]
  },
  {
   "cell_type": "markdown",
   "metadata": {},
   "source": [
    "## Lab Summary: \n",
    "In this lab, we started by defining the CSV column names, label column, and column defaults for our data inputs. Then, we constructed a tf.data Dataset of features and the label from the CSV files and created inputs layers for the raw features. Next, we set up feature columns for the model inputs and built a deep neural network in Keras. We created a custom evaluation metric and built our DNN model. Finally, we trained and evaluated our model."
   ]
  },
  {
   "cell_type": "markdown",
   "metadata": {},
   "source": [
    "Copyright 2019 Google Inc. Licensed under the Apache License, Version 2.0 (the \"License\"); you may not use this file except in compliance with the License. You may obtain a copy of the License at http://www.apache.org/licenses/LICENSE-2.0 Unless required by applicable law or agreed to in writing, software distributed under the License is distributed on an \"AS IS\" BASIS, WITHOUT WARRANTIES OR CONDITIONS OF ANY KIND, either express or implied. See the License for the specific language governing permissions and limitations under the License"
   ]
  }
 ],
 "metadata": {
  "environment": {
   "name": "tf2-gpu.2-1.m69",
   "type": "gcloud",
   "uri": "gcr.io/deeplearning-platform-release/tf2-gpu.2-1:m69"
  },
  "kernelspec": {
   "display_name": "Python 3",
   "language": "python",
   "name": "python3"
  },
  "language_info": {
   "codemirror_mode": {
    "name": "ipython",
    "version": 3
   },
   "file_extension": ".py",
   "mimetype": "text/x-python",
   "name": "python",
   "nbconvert_exporter": "python",
   "pygments_lexer": "ipython3",
   "version": "3.7.10"
  }
 },
 "nbformat": 4,
 "nbformat_minor": 4
}
